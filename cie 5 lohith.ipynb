{
 "cells": [
  {
   "cell_type": "code",
   "execution_count": 1,
   "id": "e5ae50e6",
   "metadata": {},
   "outputs": [
    {
     "name": "stdout",
     "output_type": "stream",
     "text": [
      "WARNING:tensorflow:From C:\\Users\\cheth\\anaconda3\\Lib\\site-packages\\keras\\src\\losses.py:2976: The name tf.losses.sparse_softmax_cross_entropy is deprecated. Please use tf.compat.v1.losses.sparse_softmax_cross_entropy instead.\n",
      "\n"
     ]
    }
   ],
   "source": [
    "import pandas as pd\n",
    "from sklearn.model_selection import train_test_split\n",
    "from keras.models import Sequential\n",
    "from keras.layers import Activation,Dense"
   ]
  },
  {
   "cell_type": "code",
   "execution_count": 2,
   "id": "b95cdae0",
   "metadata": {},
   "outputs": [],
   "source": [
    "import pandas as pd\n",
    "data = pd.read_csv(r\"C:\\Users\\cheth\\OneDrive\\Documents\\Desktop\\diabetes.csv\")"
   ]
  },
  {
   "cell_type": "code",
   "execution_count": 24,
   "id": "4c11fe7c",
   "metadata": {},
   "outputs": [
    {
     "data": {
      "text/html": [
       "<div>\n",
       "<style scoped>\n",
       "    .dataframe tbody tr th:only-of-type {\n",
       "        vertical-align: middle;\n",
       "    }\n",
       "\n",
       "    .dataframe tbody tr th {\n",
       "        vertical-align: top;\n",
       "    }\n",
       "\n",
       "    .dataframe thead th {\n",
       "        text-align: right;\n",
       "    }\n",
       "</style>\n",
       "<table border=\"1\" class=\"dataframe\">\n",
       "  <thead>\n",
       "    <tr style=\"text-align: right;\">\n",
       "      <th></th>\n",
       "      <th>Pregnancies</th>\n",
       "      <th>Glucose</th>\n",
       "      <th>BloodPressure</th>\n",
       "      <th>SkinThickness</th>\n",
       "      <th>Insulin</th>\n",
       "      <th>BMI</th>\n",
       "      <th>DiabetesPedigreeFunction</th>\n",
       "      <th>Age</th>\n",
       "      <th>Outcome</th>\n",
       "    </tr>\n",
       "  </thead>\n",
       "  <tbody>\n",
       "    <tr>\n",
       "      <th>0</th>\n",
       "      <td>6</td>\n",
       "      <td>148</td>\n",
       "      <td>72</td>\n",
       "      <td>35</td>\n",
       "      <td>0</td>\n",
       "      <td>33.6</td>\n",
       "      <td>0.627</td>\n",
       "      <td>50</td>\n",
       "      <td>1</td>\n",
       "    </tr>\n",
       "    <tr>\n",
       "      <th>1</th>\n",
       "      <td>1</td>\n",
       "      <td>85</td>\n",
       "      <td>66</td>\n",
       "      <td>29</td>\n",
       "      <td>0</td>\n",
       "      <td>26.6</td>\n",
       "      <td>0.351</td>\n",
       "      <td>31</td>\n",
       "      <td>0</td>\n",
       "    </tr>\n",
       "    <tr>\n",
       "      <th>2</th>\n",
       "      <td>8</td>\n",
       "      <td>183</td>\n",
       "      <td>64</td>\n",
       "      <td>0</td>\n",
       "      <td>0</td>\n",
       "      <td>23.3</td>\n",
       "      <td>0.672</td>\n",
       "      <td>32</td>\n",
       "      <td>1</td>\n",
       "    </tr>\n",
       "    <tr>\n",
       "      <th>3</th>\n",
       "      <td>1</td>\n",
       "      <td>89</td>\n",
       "      <td>66</td>\n",
       "      <td>23</td>\n",
       "      <td>94</td>\n",
       "      <td>28.1</td>\n",
       "      <td>0.167</td>\n",
       "      <td>21</td>\n",
       "      <td>0</td>\n",
       "    </tr>\n",
       "    <tr>\n",
       "      <th>4</th>\n",
       "      <td>0</td>\n",
       "      <td>137</td>\n",
       "      <td>40</td>\n",
       "      <td>35</td>\n",
       "      <td>168</td>\n",
       "      <td>43.1</td>\n",
       "      <td>2.288</td>\n",
       "      <td>33</td>\n",
       "      <td>1</td>\n",
       "    </tr>\n",
       "    <tr>\n",
       "      <th>...</th>\n",
       "      <td>...</td>\n",
       "      <td>...</td>\n",
       "      <td>...</td>\n",
       "      <td>...</td>\n",
       "      <td>...</td>\n",
       "      <td>...</td>\n",
       "      <td>...</td>\n",
       "      <td>...</td>\n",
       "      <td>...</td>\n",
       "    </tr>\n",
       "    <tr>\n",
       "      <th>763</th>\n",
       "      <td>10</td>\n",
       "      <td>101</td>\n",
       "      <td>76</td>\n",
       "      <td>48</td>\n",
       "      <td>180</td>\n",
       "      <td>32.9</td>\n",
       "      <td>0.171</td>\n",
       "      <td>63</td>\n",
       "      <td>0</td>\n",
       "    </tr>\n",
       "    <tr>\n",
       "      <th>764</th>\n",
       "      <td>2</td>\n",
       "      <td>122</td>\n",
       "      <td>70</td>\n",
       "      <td>27</td>\n",
       "      <td>0</td>\n",
       "      <td>36.8</td>\n",
       "      <td>0.340</td>\n",
       "      <td>27</td>\n",
       "      <td>0</td>\n",
       "    </tr>\n",
       "    <tr>\n",
       "      <th>765</th>\n",
       "      <td>5</td>\n",
       "      <td>121</td>\n",
       "      <td>72</td>\n",
       "      <td>23</td>\n",
       "      <td>112</td>\n",
       "      <td>26.2</td>\n",
       "      <td>0.245</td>\n",
       "      <td>30</td>\n",
       "      <td>0</td>\n",
       "    </tr>\n",
       "    <tr>\n",
       "      <th>766</th>\n",
       "      <td>1</td>\n",
       "      <td>126</td>\n",
       "      <td>60</td>\n",
       "      <td>0</td>\n",
       "      <td>0</td>\n",
       "      <td>30.1</td>\n",
       "      <td>0.349</td>\n",
       "      <td>47</td>\n",
       "      <td>1</td>\n",
       "    </tr>\n",
       "    <tr>\n",
       "      <th>767</th>\n",
       "      <td>1</td>\n",
       "      <td>93</td>\n",
       "      <td>70</td>\n",
       "      <td>31</td>\n",
       "      <td>0</td>\n",
       "      <td>30.4</td>\n",
       "      <td>0.315</td>\n",
       "      <td>23</td>\n",
       "      <td>0</td>\n",
       "    </tr>\n",
       "  </tbody>\n",
       "</table>\n",
       "<p>768 rows × 9 columns</p>\n",
       "</div>"
      ],
      "text/plain": [
       "     Pregnancies  Glucose  BloodPressure  SkinThickness  Insulin   BMI  \\\n",
       "0              6      148             72             35        0  33.6   \n",
       "1              1       85             66             29        0  26.6   \n",
       "2              8      183             64              0        0  23.3   \n",
       "3              1       89             66             23       94  28.1   \n",
       "4              0      137             40             35      168  43.1   \n",
       "..           ...      ...            ...            ...      ...   ...   \n",
       "763           10      101             76             48      180  32.9   \n",
       "764            2      122             70             27        0  36.8   \n",
       "765            5      121             72             23      112  26.2   \n",
       "766            1      126             60              0        0  30.1   \n",
       "767            1       93             70             31        0  30.4   \n",
       "\n",
       "     DiabetesPedigreeFunction  Age  Outcome  \n",
       "0                       0.627   50        1  \n",
       "1                       0.351   31        0  \n",
       "2                       0.672   32        1  \n",
       "3                       0.167   21        0  \n",
       "4                       2.288   33        1  \n",
       "..                        ...  ...      ...  \n",
       "763                     0.171   63        0  \n",
       "764                     0.340   27        0  \n",
       "765                     0.245   30        0  \n",
       "766                     0.349   47        1  \n",
       "767                     0.315   23        0  \n",
       "\n",
       "[768 rows x 9 columns]"
      ]
     },
     "execution_count": 24,
     "metadata": {},
     "output_type": "execute_result"
    }
   ],
   "source": [
    "data"
   ]
  },
  {
   "cell_type": "code",
   "execution_count": 10,
   "id": "ca8bbf18",
   "metadata": {},
   "outputs": [],
   "source": [
    "x = data.drop(columns=['Outcome'])\n",
    "y = data['Outcome']"
   ]
  },
  {
   "cell_type": "code",
   "execution_count": 11,
   "id": "fba1a292",
   "metadata": {},
   "outputs": [],
   "source": [
    "from sklearn.model_selection import train_test_split\n",
    "x_train, x_test, y_train, y_test = train_test_split(x, y, test_size=0.2, random_state=42)"
   ]
  },
  {
   "cell_type": "code",
   "execution_count": 12,
   "id": "af3f1a41",
   "metadata": {},
   "outputs": [
    {
     "name": "stdout",
     "output_type": "stream",
     "text": [
      "WARNING:tensorflow:From C:\\Users\\cheth\\anaconda3\\Lib\\site-packages\\keras\\src\\backend.py:873: The name tf.get_default_graph is deprecated. Please use tf.compat.v1.get_default_graph instead.\n",
      "\n"
     ]
    }
   ],
   "source": [
    "model = Sequential()\n",
    "model.add(Dense(32, activation='relu', input_shape=(x_train.shape[1],)))\n",
    "model.add(Dense(16, activation='relu'))\n",
    "model.add(Dense(1, activation='sigmoid'))  \n"
   ]
  },
  {
   "cell_type": "code",
   "execution_count": 13,
   "id": "f218c8c2",
   "metadata": {},
   "outputs": [
    {
     "name": "stdout",
     "output_type": "stream",
     "text": [
      "WARNING:tensorflow:From C:\\Users\\cheth\\anaconda3\\Lib\\site-packages\\keras\\src\\optimizers\\__init__.py:309: The name tf.train.Optimizer is deprecated. Please use tf.compat.v1.train.Optimizer instead.\n",
      "\n",
      "Epoch 1/30\n",
      "WARNING:tensorflow:From C:\\Users\\cheth\\anaconda3\\Lib\\site-packages\\keras\\src\\utils\\tf_utils.py:492: The name tf.ragged.RaggedTensorValue is deprecated. Please use tf.compat.v1.ragged.RaggedTensorValue instead.\n",
      "\n",
      "WARNING:tensorflow:From C:\\Users\\cheth\\anaconda3\\Lib\\site-packages\\keras\\src\\engine\\base_layer_utils.py:384: The name tf.executing_eagerly_outside_functions is deprecated. Please use tf.compat.v1.executing_eagerly_outside_functions instead.\n",
      "\n",
      "16/16 [==============================] - 2s 27ms/step - loss: 5.0163 - Accuracy: 0.5784 - val_loss: 1.8151 - val_Accuracy: 0.6423\n",
      "Epoch 2/30\n",
      "16/16 [==============================] - 0s 6ms/step - loss: 1.9657 - Accuracy: 0.6151 - val_loss: 1.0521 - val_Accuracy: 0.6748\n",
      "Epoch 3/30\n",
      "16/16 [==============================] - 0s 6ms/step - loss: 1.4990 - Accuracy: 0.6273 - val_loss: 1.1663 - val_Accuracy: 0.6829\n",
      "Epoch 4/30\n",
      "16/16 [==============================] - 0s 7ms/step - loss: 1.3454 - Accuracy: 0.6436 - val_loss: 0.9569 - val_Accuracy: 0.6585\n",
      "Epoch 5/30\n",
      "16/16 [==============================] - 0s 7ms/step - loss: 1.0701 - Accuracy: 0.6253 - val_loss: 0.8362 - val_Accuracy: 0.6504\n",
      "Epoch 6/30\n",
      "16/16 [==============================] - 0s 7ms/step - loss: 0.9183 - Accuracy: 0.6497 - val_loss: 0.7805 - val_Accuracy: 0.6829\n",
      "Epoch 7/30\n",
      "16/16 [==============================] - 0s 6ms/step - loss: 0.9726 - Accuracy: 0.6314 - val_loss: 0.8357 - val_Accuracy: 0.6504\n",
      "Epoch 8/30\n",
      "16/16 [==============================] - 0s 7ms/step - loss: 0.7781 - Accuracy: 0.6599 - val_loss: 0.8102 - val_Accuracy: 0.6585\n",
      "Epoch 9/30\n",
      "16/16 [==============================] - 0s 7ms/step - loss: 0.6953 - Accuracy: 0.6517 - val_loss: 0.7469 - val_Accuracy: 0.6423\n",
      "Epoch 10/30\n",
      "16/16 [==============================] - 0s 8ms/step - loss: 0.6923 - Accuracy: 0.6741 - val_loss: 0.7834 - val_Accuracy: 0.6748\n",
      "Epoch 11/30\n",
      "16/16 [==============================] - 0s 5ms/step - loss: 0.7297 - Accuracy: 0.6823 - val_loss: 0.7828 - val_Accuracy: 0.6260\n",
      "Epoch 12/30\n",
      "16/16 [==============================] - 0s 6ms/step - loss: 0.6664 - Accuracy: 0.6884 - val_loss: 0.6725 - val_Accuracy: 0.6585\n",
      "Epoch 13/30\n",
      "16/16 [==============================] - 0s 8ms/step - loss: 0.7923 - Accuracy: 0.6477 - val_loss: 0.9824 - val_Accuracy: 0.6504\n",
      "Epoch 14/30\n",
      "16/16 [==============================] - 0s 6ms/step - loss: 1.3087 - Accuracy: 0.5886 - val_loss: 1.4136 - val_Accuracy: 0.6179\n",
      "Epoch 15/30\n",
      "16/16 [==============================] - 0s 6ms/step - loss: 0.9609 - Accuracy: 0.6517 - val_loss: 0.8581 - val_Accuracy: 0.6504\n",
      "Epoch 16/30\n",
      "16/16 [==============================] - 0s 6ms/step - loss: 0.6849 - Accuracy: 0.6802 - val_loss: 0.7382 - val_Accuracy: 0.6748\n",
      "Epoch 17/30\n",
      "16/16 [==============================] - 0s 8ms/step - loss: 0.6791 - Accuracy: 0.6823 - val_loss: 0.6286 - val_Accuracy: 0.7073\n",
      "Epoch 18/30\n",
      "16/16 [==============================] - 0s 7ms/step - loss: 0.6232 - Accuracy: 0.7108 - val_loss: 0.7191 - val_Accuracy: 0.6748\n",
      "Epoch 19/30\n",
      "16/16 [==============================] - 0s 7ms/step - loss: 0.6116 - Accuracy: 0.7169 - val_loss: 0.6057 - val_Accuracy: 0.6829\n",
      "Epoch 20/30\n",
      "16/16 [==============================] - 0s 7ms/step - loss: 0.6206 - Accuracy: 0.6965 - val_loss: 0.6947 - val_Accuracy: 0.6585\n",
      "Epoch 21/30\n",
      "16/16 [==============================] - 0s 6ms/step - loss: 0.6599 - Accuracy: 0.6904 - val_loss: 0.7156 - val_Accuracy: 0.7154\n",
      "Epoch 22/30\n",
      "16/16 [==============================] - 0s 6ms/step - loss: 0.6407 - Accuracy: 0.6925 - val_loss: 0.6367 - val_Accuracy: 0.6667\n",
      "Epoch 23/30\n",
      "16/16 [==============================] - 0s 7ms/step - loss: 0.6076 - Accuracy: 0.7006 - val_loss: 0.5802 - val_Accuracy: 0.6992\n",
      "Epoch 24/30\n",
      "16/16 [==============================] - 0s 7ms/step - loss: 0.6146 - Accuracy: 0.6925 - val_loss: 0.8380 - val_Accuracy: 0.6585\n",
      "Epoch 25/30\n",
      "16/16 [==============================] - 0s 6ms/step - loss: 0.6474 - Accuracy: 0.6741 - val_loss: 0.6105 - val_Accuracy: 0.6992\n",
      "Epoch 26/30\n",
      "16/16 [==============================] - 0s 7ms/step - loss: 0.6707 - Accuracy: 0.6864 - val_loss: 0.6976 - val_Accuracy: 0.6423\n",
      "Epoch 27/30\n",
      "16/16 [==============================] - 0s 7ms/step - loss: 0.6470 - Accuracy: 0.6965 - val_loss: 0.7185 - val_Accuracy: 0.6748\n",
      "Epoch 28/30\n",
      "16/16 [==============================] - 0s 7ms/step - loss: 0.5865 - Accuracy: 0.7128 - val_loss: 0.5895 - val_Accuracy: 0.6748\n",
      "Epoch 29/30\n",
      "16/16 [==============================] - 0s 7ms/step - loss: 0.5809 - Accuracy: 0.7047 - val_loss: 0.6656 - val_Accuracy: 0.6504\n",
      "Epoch 30/30\n",
      "16/16 [==============================] - 0s 7ms/step - loss: 0.5650 - Accuracy: 0.7006 - val_loss: 0.5788 - val_Accuracy: 0.7317\n"
     ]
    },
    {
     "data": {
      "text/plain": [
       "<keras.src.callbacks.History at 0x2605a02c950>"
      ]
     },
     "execution_count": 13,
     "metadata": {},
     "output_type": "execute_result"
    }
   ],
   "source": [
    "model.compile(optimizer='adam', loss='binary_crossentropy', metrics=['Accuracy'])\n",
    "model.fit(x_train, y_train, epochs=30, batch_size=32, validation_split=0.2)"
   ]
  },
  {
   "cell_type": "code",
   "execution_count": 28,
   "id": "e7d6fdb1",
   "metadata": {},
   "outputs": [
    {
     "name": "stdout",
     "output_type": "stream",
     "text": [
      "5/5 [==============================] - 0s 4ms/step - loss: 0.7372 - Accuracy: 0.6494\n",
      "Test accuracy: 0.649350643157959\n"
     ]
    }
   ],
   "source": [
    "test_loss, test_acc = model.evaluate(x_test, y_test)\n",
    "print('Test accuracy:', test_acc)"
   ]
  },
  {
   "cell_type": "code",
   "execution_count": null,
   "id": "ac5a3be9",
   "metadata": {},
   "outputs": [],
   "source": []
  }
 ],
 "metadata": {
  "kernelspec": {
   "display_name": "Python 3 (ipykernel)",
   "language": "python",
   "name": "python3"
  },
  "language_info": {
   "codemirror_mode": {
    "name": "ipython",
    "version": 3
   },
   "file_extension": ".py",
   "mimetype": "text/x-python",
   "name": "python",
   "nbconvert_exporter": "python",
   "pygments_lexer": "ipython3",
   "version": "3.11.4"
  }
 },
 "nbformat": 4,
 "nbformat_minor": 5
}
